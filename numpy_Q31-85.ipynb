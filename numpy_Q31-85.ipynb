{
 "cells": [
  {
   "cell_type": "code",
   "execution_count": 1,
   "id": "5fa982e4-2481-4752-b06a-4613662b50a5",
   "metadata": {},
   "outputs": [],
   "source": [
    "import numpy as np"
   ]
  },
  {
   "cell_type": "code",
   "execution_count": 5,
   "id": "ab77f847-c869-4bc9-b285-ec5d4e37eb4d",
   "metadata": {},
   "outputs": [
    {
     "data": {
      "text/plain": [
       "array([[2, 3],\n",
       "       [5, 6]])"
      ]
     },
     "execution_count": 5,
     "metadata": {},
     "output_type": "execute_result"
    }
   ],
   "source": [
    "arr_2d = np.array([[1, 2, 3],\n",
    "                   [4, 5, 6],\n",
    "                   [7, 8, 9]])\n",
    "arr_2d[0:2,1:3]"
   ]
  },
  {
   "cell_type": "markdown",
   "id": "e3a0e3fa-db33-46f2-bcb7-8f2a647419cc",
   "metadata": {},
   "source": [
    "Write a NumPy function to extract elements in specific order from a given 2D array based on indices\n",
    "provided in another array."
   ]
  },
  {
   "cell_type": "code",
   "execution_count": 99,
   "id": "5a6ed582-5ecd-4cfe-bf24-f571f80b8e1f",
   "metadata": {},
   "outputs": [],
   "source": [
    "import random"
   ]
  },
  {
   "cell_type": "code",
   "execution_count": 129,
   "id": "08847620-1549-45a0-8241-14cdf5f9512f",
   "metadata": {},
   "outputs": [
    {
     "data": {
      "text/plain": [
       "array([2, 6, 7])"
      ]
     },
     "execution_count": 129,
     "metadata": {},
     "output_type": "execute_result"
    }
   ],
   "source": [
    "def element_finder(arr,ind):\n",
    "    arr=arr.flatten()\n",
    "    final_arr=arr[ind]\n",
    "    return final_arr\n",
    "arr_2d = np.array([[1, 2, 3],\n",
    "                   [4, 5, 6],\n",
    "                   [7, 8, 9]])\n",
    "indices=np.array([1,5,6])\n",
    "final_elements=element_finder(arr_2d,indices)\n",
    "final_elements\n"
   ]
  },
  {
   "cell_type": "markdown",
   "id": "28ff755a-5053-4101-876a-3ed2a34a2096",
   "metadata": {},
   "source": [
    "Create a NumPy function that filters elements greater than a threshold from a given 1D array using\n",
    "boolean indexing."
   ]
  },
  {
   "cell_type": "code",
   "execution_count": 137,
   "id": "56f63663-ec0a-4a59-a396-dee0a0f5dd91",
   "metadata": {},
   "outputs": [
    {
     "data": {
      "text/plain": [
       "array([6, 7, 8, 9])"
      ]
     },
     "execution_count": 137,
     "metadata": {},
     "output_type": "execute_result"
    }
   ],
   "source": [
    "def element_remover(arr,val):\n",
    "    arr=arr[arr>val]\n",
    "    return arr\n",
    "arr_2d = np.array([[1, 2, 3],\n",
    "                   [4, 5, 6],\n",
    "                   [7, 8, 9]])\n",
    "arr=arr_2d.flatten()\n",
    "val =5\n",
    "arr=element_remover(arr,val)\n",
    "arr"
   ]
  },
  {
   "cell_type": "markdown",
   "id": "e6bb8921-89e3-42bd-bd7f-390477b93109",
   "metadata": {},
   "source": [
    " Develop a NumPy function that extracts specific elements from a 3D array using indices provided in three\n",
    "separate arrays for each dimension."
   ]
  },
  {
   "cell_type": "code",
   "execution_count": 158,
   "id": "5fc3d075-8d72-47e7-bef7-e5a300a26b54",
   "metadata": {},
   "outputs": [
    {
     "data": {
      "text/plain": [
       "[6, 8]"
      ]
     },
     "execution_count": 158,
     "metadata": {},
     "output_type": "execute_result"
    }
   ],
   "source": [
    "def ele_return(arr,a,b,c):\n",
    "    element=[]\n",
    "    for i in range(len(a)):\n",
    "        element.append(arr[a[i]][b[i]][c[i]])\n",
    "    return element\n",
    "    \n",
    "arr_3d = np.array([[[1, 2, 3],\n",
    "                   [4, 5, 6],\n",
    "                   [7, 8, 9]]])\n",
    "d1=np.array([0,0])\n",
    "d2=np.array([1,2])\n",
    "d3=np.array([2,1])\n",
    "element=ele_return(arr_3d,d1,d2,d3)\n",
    "element"
   ]
  },
  {
   "cell_type": "markdown",
   "id": "882e38ba-f671-43cc-a6e8-8a88aa520c4f",
   "metadata": {},
   "source": [
    "Write a NumPy function that returns elements from an array where both two conditions are satisfied\n",
    "using boolean indexing"
   ]
  },
  {
   "cell_type": "code",
   "execution_count": null,
   "id": "efe94347-931d-463f-8899-5950495f00f4",
   "metadata": {},
   "outputs": [],
   "source": [
    "def element_remover( arr,con1,con2):\n",
    "    combine_condition=np.logical_and(con1,con2)\n",
    "    arr=arr[combine_condition]\n",
    "    return arr\n",
    "arr_3d = np.array([[1, 2, 3],\n",
    "                   [4, 5, 6],\n",
    "                   [7, 8, 9]])\n",
    "arr=arr_3d.flatten()\n",
    "cond1=arr%2==0\n",
    "cond2=arr>1\n",
    "element=element_remover(arr,cond1,cond2)\n",
    "element\n"
   ]
  },
  {
   "cell_type": "markdown",
   "id": "6cde2b4b-d86c-46f1-b486-963df30d4995",
   "metadata": {},
   "source": [
    "Create a NumPy function that extracts elements from a 2D array using row and column indices provided\n",
    "in separate arrays."
   ]
  },
  {
   "cell_type": "code",
   "execution_count": 219,
   "id": "cd65b121-2c96-4df8-98a5-e27bd6be929d",
   "metadata": {},
   "outputs": [
    {
     "data": {
      "text/plain": [
       "array([4, 3])"
      ]
     },
     "execution_count": 219,
     "metadata": {},
     "output_type": "execute_result"
    }
   ],
   "source": [
    "def ret(arr,row,col):\n",
    "    element=[]\n",
    "    for i in range(len(row)):\n",
    "        element=arr[row,col]\n",
    "    return element \n",
    "arr_3d = np.array([[1, 2, 3],\n",
    "                   [4, 5, 6],\n",
    "                   [7, 8, 9]])\n",
    "row=np.array([1,0,])\n",
    "col=np.array([0,2])\n",
    "element=ret(arr_3d,row,col)\n",
    "element\n",
    "    "
   ]
  },
  {
   "cell_type": "markdown",
   "id": "2432bdfc-5790-404f-a738-18b716018d55",
   "metadata": {
    "tags": []
   },
   "source": [
    "6. Given an array arr of shape (3, 3), add a scalar value of 5 to each element using NumPy broadcasting.\n"
   ]
  },
  {
   "cell_type": "code",
   "execution_count": 227,
   "id": "fbf698b6-fcef-48ff-ae07-c4737207f2af",
   "metadata": {},
   "outputs": [
    {
     "data": {
      "text/plain": [
       "array([[5., 5., 5.],\n",
       "       [5., 5., 5.],\n",
       "       [5., 5., 5.]])"
      ]
     },
     "execution_count": 227,
     "metadata": {},
     "output_type": "execute_result"
    }
   ],
   "source": [
    "arr=np.zeros([3,3])\n",
    "arr=arr+5\n",
    "arr"
   ]
  },
  {
   "cell_type": "markdown",
   "id": "3f4e35c1-b85e-4131-a13b-055cd23ec679",
   "metadata": {},
   "source": [
    "Consider two arrays arr1 of shape (1, 3) and arr2 of shape (3, 4). Multiply each row of arr2 by the\n",
    "corresponding element in arr1 using NumPy broadcasting."
   ]
  },
  {
   "cell_type": "code",
   "execution_count": 31,
   "id": "21c6680f-49dd-44e8-a435-0aecfce1c6e6",
   "metadata": {},
   "outputs": [
    {
     "data": {
      "text/plain": [
       "array([[ 6,  6,  5,  6],\n",
       "       [18, 18, 15, 15],\n",
       "       [ 6,  6,  6,  5]])"
      ]
     },
     "execution_count": 31,
     "metadata": {},
     "output_type": "execute_result"
    }
   ],
   "source": [
    "arr1=np.random.randint(1,4,size=(1,3))\n",
    "arr2=np.random.randint(5,7,size=(3,4))\n",
    "arr4=arr1.T*arr2\n",
    "arr4"
   ]
  },
  {
   "cell_type": "markdown",
   "id": "dcf7f165-77c9-422a-8fe6-0f94e77ba1b5",
   "metadata": {},
   "source": [
    "Given a 1D array arr1 of shape (1, 4) and a 2D array arr2 of shape (4, 3), add arr1 to each row of arr2 using\n",
    "NumPy broadcasting."
   ]
  },
  {
   "cell_type": "code",
   "execution_count": 19,
   "id": "e82f9d3f-65e7-4d7a-a0ab-f0444d2c1bda",
   "metadata": {},
   "outputs": [
    {
     "data": {
      "text/plain": [
       "array([[4, 5, 2],\n",
       "       [3, 6, 4]])"
      ]
     },
     "execution_count": 19,
     "metadata": {},
     "output_type": "execute_result"
    }
   ],
   "source": [
    "arr1=np.random.randint(1,4,size=(3))\n",
    "arr2=np.random.randint(1,4,size=(2,3))\n",
    "arr3=arr1+arr2\n",
    "arr3"
   ]
  },
  {
   "cell_type": "markdown",
   "id": "6696b10c-1288-4f07-b746-9f6cd3099cfb",
   "metadata": {},
   "source": [
    "Consider two arrays arr1 of shape (3, 1) and arr2 of shape (1, 3). Add these arrays using NumPy\n",
    "broadcasting."
   ]
  },
  {
   "cell_type": "code",
   "execution_count": 23,
   "id": "dcc946fe-bfec-428d-af29-43a5bbf0b28e",
   "metadata": {},
   "outputs": [
    {
     "data": {
      "text/plain": [
       "array([[7, 6, 7],\n",
       "       [8, 7, 8],\n",
       "       [7, 6, 7]])"
      ]
     },
     "execution_count": 23,
     "metadata": {},
     "output_type": "execute_result"
    }
   ],
   "source": [
    "arr1=np.random.randint(1,4,size=(3,1))\n",
    "arr2=np.random.randint(5,7,size=(1,3))\n",
    "arr3=arr1+arr2\n",
    "arr3"
   ]
  },
  {
   "cell_type": "markdown",
   "id": "3ece0d40-8007-40f8-be86-ebbd2b29e12e",
   "metadata": {},
   "source": [
    "Given arrays arr1 of shape (2, 3) and arr2 of shape (2, 2), perform multiplication using NumPy\n",
    "broadcasting. Handle the shape incompatibility."
   ]
  },
  {
   "cell_type": "code",
   "execution_count": 3,
   "id": "5063b3b2-095e-4a5f-b7ae-12d1b95a3f50",
   "metadata": {},
   "outputs": [
    {
     "data": {
      "text/plain": [
       "array([[43, 48],\n",
       "       [59, 66],\n",
       "       [75, 84]])"
      ]
     },
     "execution_count": 3,
     "metadata": {},
     "output_type": "execute_result"
    }
   ],
   "source": [
    "arr1 = np.array([[1, 2, 3],\n",
    "                 [4, 5, 6]])  # Shape: (2, 3)\n",
    "\n",
    "arr2 = np.array([[7, 8],\n",
    "                 [9, 10]]) \n",
    "arr3=np.dot(arr1.T,arr2)\n",
    "arr3"
   ]
  },
  {
   "cell_type": "markdown",
   "id": "3e6fb043-e77b-402b-bdf5-73137bf89189",
   "metadata": {},
   "source": [
    "Calculate column wise mean for the given array"
   ]
  },
  {
   "cell_type": "markdown",
   "id": "1c0f1c06-6827-4385-8239-88ffe04a5f98",
   "metadata": {},
   "source": [
    "arr = np.array([[1, 2, 3], [4, 5, 6]])\n"
   ]
  },
  {
   "cell_type": "code",
   "execution_count": 70,
   "id": "4c6bc35d-1f4a-4cac-8343-0ee3a1f872c4",
   "metadata": {},
   "outputs": [
    {
     "data": {
      "text/plain": [
       "array([2.5, 3.5, 4.5])"
      ]
     },
     "execution_count": 70,
     "metadata": {},
     "output_type": "execute_result"
    }
   ],
   "source": [
    "import pandas as pb\n",
    "arr = np.array([[1, 2, 3], [4, 5, 6]])\n",
    "mean=[]\n",
    "row,col=arr.shape\n",
    "mean=np.mean(arr,axis=0)        \n",
    "mean\n"
   ]
  },
  {
   "cell_type": "markdown",
   "id": "d443b0f0-47b9-44e0-a96d-59459592ba56",
   "metadata": {},
   "source": [
    " Find maximum value in each row of the given array:"
   ]
  },
  {
   "cell_type": "markdown",
   "id": "665519d0-9bd8-4927-aaf3-d7227e423837",
   "metadata": {},
   "source": [
    "arr = np.array([[1, 2, 3], [4, 5, 6]])"
   ]
  },
  {
   "cell_type": "code",
   "execution_count": 71,
   "id": "7218cbdd-1b5c-4e64-a890-80557f500d11",
   "metadata": {},
   "outputs": [
    {
     "data": {
      "text/plain": [
       "array([3, 6])"
      ]
     },
     "execution_count": 71,
     "metadata": {},
     "output_type": "execute_result"
    }
   ],
   "source": [
    "arr = np.array([[1, 2, 3], [4, 5, 6]])\n",
    "r_max=np.max(arr,axis=1)\n",
    "r_max"
   ]
  },
  {
   "cell_type": "markdown",
   "id": "961c4cc7-6267-430a-ae5c-30e453308ca7",
   "metadata": {},
   "source": [
    "For the given array, find indices of maximum value in each column."
   ]
  },
  {
   "cell_type": "markdown",
   "id": "88086258-153b-4e3c-a065-e62df987d1c7",
   "metadata": {},
   "source": [
    "arr = np.array([[1, 2, 3], [4, 5, 6]])"
   ]
  },
  {
   "cell_type": "code",
   "execution_count": 78,
   "id": "4aec27ae-7a2d-4224-bb1e-934b785370c5",
   "metadata": {},
   "outputs": [
    {
     "data": {
      "text/plain": [
       "array([1, 1, 1])"
      ]
     },
     "execution_count": 78,
     "metadata": {},
     "output_type": "execute_result"
    }
   ],
   "source": [
    "arr = np.array([[1, 2, 3], [4, 5, 6]])\n",
    "r_max_index=np.argmax(arr,axis=0)\n",
    "r_max_index"
   ]
  },
  {
   "cell_type": "markdown",
   "id": "208a3243-387e-4ec8-b6a0-1857bf9095ff",
   "metadata": {},
   "source": [
    "For the given array, apply custom function to calculate moving sum along rows."
   ]
  },
  {
   "cell_type": "markdown",
   "id": "8c0a932d-68c2-425d-b4a0-0ab592f75b68",
   "metadata": {},
   "source": [
    "arr = np.array([[1, 2, 3], [4, 5, 6]])"
   ]
  },
  {
   "cell_type": "code",
   "execution_count": 97,
   "id": "9b48dd22-a087-4c86-b074-76786501a5b5",
   "metadata": {},
   "outputs": [
    {
     "data": {
      "text/plain": [
       "array([[ 0,  3,  5],\n",
       "       [ 0,  9, 11]])"
      ]
     },
     "execution_count": 97,
     "metadata": {},
     "output_type": "execute_result"
    }
   ],
   "source": [
    "def moving_sum(arr,window):\n",
    "    movin_sum_arr=np.zeros_like(arr)\n",
    "    #np.zeros_like\n",
    "    #Creates a new array with the same shape and type as the given array but filled with zeros.\n",
    "    row,col=arr.shape\n",
    "    for i in range(row):\n",
    "        for j in range(col-window+1):\n",
    "            movin_sum_arr[i,j+window-1]=np.sum(arr[i,j:j+window])\n",
    "    return movin_sum_arr\n",
    "arr = np.array([[1, 2, 3], [4, 5, 6]])\n",
    "window=2\n",
    "new_arr=moving_sum(arr,window)\n",
    "new_arr"
   ]
  },
  {
   "cell_type": "markdown",
   "id": "943c9fbb-b7d6-4eb1-8498-31d342d39bc8",
   "metadata": {},
   "source": [
    "In the given array, check if all elements in each column are even."
   ]
  },
  {
   "cell_type": "markdown",
   "id": "94dfefce-35c0-4dde-8128-127d8fba4978",
   "metadata": {},
   "source": [
    "arr = np.array([[2, 4, 6], [3, 5, 7]])"
   ]
  },
  {
   "cell_type": "code",
   "execution_count": 113,
   "id": "c891fb92-2cff-4f8c-bbed-e4076eb2f9ba",
   "metadata": {},
   "outputs": [
    {
     "data": {
      "text/plain": [
       "array([False, False, False])"
      ]
     },
     "execution_count": 113,
     "metadata": {},
     "output_type": "execute_result"
    }
   ],
   "source": [
    "arr = np.array([[2, 4, 6], [3, 5, 7]])\n",
    "cond=arr%2==0\n",
    "n_r=np.all(cond,axis=0)\n",
    "n_r"
   ]
  },
  {
   "cell_type": "markdown",
   "id": "981cbc78-952f-40a5-8901-b92b99689415",
   "metadata": {},
   "source": [
    " Given a NumPy array arr, reshape it into a matrix of dimensions `m` rows and `n` columns. Return the\n",
    "reshaped matrix.\n",
    "\n",
    "\n",
    "\n"
   ]
  },
  {
   "cell_type": "markdown",
   "id": "d816e1e3-4364-4ca6-8684-0d8355f441f1",
   "metadata": {},
   "source": [
    "original_array = np.array([1, 2, 3, 4, 5, 6])"
   ]
  },
  {
   "cell_type": "code",
   "execution_count": 129,
   "id": "67e81ce4-8ac5-4a63-a32d-e8ed90dfb3e7",
   "metadata": {},
   "outputs": [
    {
     "data": {
      "text/plain": [
       "matrix([[1, 2, 3],\n",
       "        [4, 5, 6]])"
      ]
     },
     "execution_count": 129,
     "metadata": {},
     "output_type": "execute_result"
    }
   ],
   "source": [
    "import math\n",
    "original_array = np.array([1, 2, 3, 4, 5, 6])\n",
    "met=original_array.reshape(2,3)\n",
    "met=np.matrix(met)\n",
    "met"
   ]
  },
  {
   "cell_type": "markdown",
   "id": "5c9c43ec-47aa-4f8a-98b2-c947bdaf6490",
   "metadata": {},
   "source": [
    "Create a function that takes a matrix as input and returns the flattened array."
   ]
  },
  {
   "cell_type": "markdown",
   "id": "d178ea73-27cd-4392-86fd-301822406546",
   "metadata": {},
   "source": [
    "input_matrix = np.array([[1, 2, 3], [4, 5, 6]])"
   ]
  },
  {
   "cell_type": "code",
   "execution_count": 4,
   "id": "f1725d2b-ea64-4b1d-97df-68cec8655013",
   "metadata": {},
   "outputs": [
    {
     "data": {
      "text/plain": [
       "array([1, 2, 3, 4, 5, 6])"
      ]
     },
     "execution_count": 4,
     "metadata": {},
     "output_type": "execute_result"
    }
   ],
   "source": [
    "input_matrix = np.matrix([[1, 2, 3], [4, 5, 6]])\n",
    "arr=np.array(input_matrix).flatten()\n",
    "arr"
   ]
  },
  {
   "cell_type": "markdown",
   "id": "8d630a45-7425-424f-9da8-1728f3b69b86",
   "metadata": {},
   "source": [
    " Write a function that concatenates two given arrays along a specified axis."
   ]
  },
  {
   "cell_type": "markdown",
   "id": "a768ba48-52e8-4c0e-97d6-a60678b2a51c",
   "metadata": {},
   "source": [
    "array1 = np.array([[1, 2], [3, 4]]) ",
    "\n",
    "array2 = np.array([[5, 6], [7, 8]])\n"
   ]
  },
  {
   "cell_type": "code",
   "execution_count": 11,
   "id": "98d57cf3-b4c8-4136-9aea-c22e2075ac84",
   "metadata": {},
   "outputs": [
    {
     "data": {
      "text/plain": [
       "array([[1, 2, 5, 6],\n",
       "       [3, 4, 7, 8]])"
      ]
     },
     "execution_count": 11,
     "metadata": {},
     "output_type": "execute_result"
    }
   ],
   "source": [
    "def con(arr1,arr2):\n",
    "    arr3=np.concatenate((arr1,arr2),axis=1)\n",
    "    return arr3\n",
    "array1 = np.array([[1, 2], [3, 4]])\n",
    "array2 = np.array([[5, 6], [7, 8]])\n",
    "arr3=con(array1,array2)\n",
    "arr3"
   ]
  },
  {
   "cell_type": "markdown",
   "id": "2f08e883-97c7-4bc1-911d-0afcffed4dbf",
   "metadata": {},
   "source": [
    "Create a function that splits an array into multiple sub-arrays along a specified axis"
   ]
  },
  {
   "cell_type": "markdown",
   "id": "ee0e381f-a2d5-4bed-8608-0c314f1a4bd2",
   "metadata": {},
   "source": [
    "original_array = np.array([[1, 2, 3], [4, 5, 6], [7, 8, 9]])\n",
    "\n"
   ]
  },
  {
   "cell_type": "code",
   "execution_count": 563,
   "id": "9dae7fac-b670-4542-8bdd-bed3b45a9580",
   "metadata": {},
   "outputs": [
    {
     "data": {
      "text/plain": [
       "[array([[1],\n",
       "        [4],\n",
       "        [7]]),\n",
       " array([[2],\n",
       "        [5],\n",
       "        [8]]),\n",
       " array([[3],\n",
       "        [6],\n",
       "        [9]])]"
      ]
     },
     "execution_count": 563,
     "metadata": {},
     "output_type": "execute_result"
    }
   ],
   "source": [
    "#doubt\n",
    "#question no 50\n",
    "import numpy as np\n",
    "def split_fun(arr,splits,axis):\n",
    "    new=np.split(arr,splits,axis=axis)\n",
    "    return new\n",
    "original_array = np.array([[1, 2, 3], [4, 5, 6], [7, 8, 9]])\n",
    "splits=3\n",
    "axis=1\n",
    "sub_str=split_fun(original_array,splits,axis)\n",
    "sub_str\n"
   ]
  },
  {
   "cell_type": "markdown",
   "id": "4129a703-7b38-4940-84a0-c2d4071ccefb",
   "metadata": {},
   "source": [
    "51. Create a NumPy array `arr1` with random integers and another array `arr2` with integers from 1 to 10.\n",
    "Perform element-wise addition between `arr1` and `arr2`."
   ]
  },
  {
   "cell_type": "code",
   "execution_count": 77,
   "id": "5d3348a8-972b-4909-8066-50bb2927e439",
   "metadata": {},
   "outputs": [
    {
     "data": {
      "text/plain": [
       "array([ 6,  7,  9, 10,  7,  7,  9, 16, 11, 19])"
      ]
     },
     "execution_count": 77,
     "metadata": {},
     "output_type": "execute_result"
    }
   ],
   "source": [
    "arr1=np.random.randint(10,size=10)\n",
    "arr2=np.arange(1,11)\n",
    "arr3=np.add(arr1,arr2)\n",
    "arr3"
   ]
  },
  {
   "cell_type": "markdown",
   "id": "1cb0e167-676f-415a-a820-c3156c544dea",
   "metadata": {},
   "source": [
    "52. Generate a NumPy array `arr1` with sequential integers from 10 to 1 and another array `arr2` with integers\n",
    "from 1 to 10. Subtract `arr2` from `arr1` element-wise"
   ]
  },
  {
   "cell_type": "code",
   "execution_count": 75,
   "id": "ba31d8e7-88a5-43f0-a063-6cdfdf9710ae",
   "metadata": {},
   "outputs": [
    {
     "data": {
      "text/plain": [
       "array([0, 0, 0, 0, 0, 0, 0, 0, 0])"
      ]
     },
     "execution_count": 75,
     "metadata": {},
     "output_type": "execute_result"
    }
   ],
   "source": [
    "arr2=np.arange(1,10)\n",
    "arr1=arr2[::-1]\n",
    "arr3=np.subtract(arr2,arr2)\n",
    "arr3"
   ]
  },
  {
   "cell_type": "markdown",
   "id": "dea147aa-d5bc-4547-b3ab-fac3367e8a4c",
   "metadata": {},
   "source": [
    "53. Create a NumPy array `arr1` with random integers and another array `arr2` with integers from 1 to 5.\n",
    "Perform element-wise multiplication between `arr1` and `arr2`."
   ]
  },
  {
   "cell_type": "code",
   "execution_count": 72,
   "id": "64beddf2-2049-4547-9caa-ec1bb59843e5",
   "metadata": {},
   "outputs": [
    {
     "data": {
      "text/plain": [
       "array([ 7, 18, 18, 24, 45])"
      ]
     },
     "execution_count": 72,
     "metadata": {},
     "output_type": "execute_result"
    }
   ],
   "source": [
    "arr1=np.random.randint(5,10,size=5)\n",
    "arr2=np.arange(1,6)\n",
    "arr3=np.multiply(arr1,arr2)\n",
    "arr3"
   ]
  },
  {
   "cell_type": "markdown",
   "id": "7bed1ce4-0d59-43ed-bd4f-46de2408b918",
   "metadata": {},
   "source": [
    "54. Generate a NumPy array `arr1` with even integers from 2 to 10 and another array `arr2` with integers from 1\n",
    "to 5. Perform element-wise division of `arr1` by `arr2`."
   ]
  },
  {
   "cell_type": "code",
   "execution_count": 70,
   "id": "e65c791d-d512-4b7b-a7f8-d47ed49e2e29",
   "metadata": {},
   "outputs": [
    {
     "data": {
      "text/plain": [
       "array([2., 2., 2., 2., 2.])"
      ]
     },
     "execution_count": 70,
     "metadata": {},
     "output_type": "execute_result"
    }
   ],
   "source": [
    "arr1=np.arange(1,11)\n",
    "arr1=arr1[arr1%2==0]\n",
    "arr2=np.arange(1,6)\n",
    "arr3=np.divide(arr1,arr2)\n",
    "arr3"
   ]
  },
  {
   "cell_type": "markdown",
   "id": "83630872-5de1-4ece-90b6-a6e88bd97279",
   "metadata": {},
   "source": [
    "55. Create a NumPy array `arr1` with integers from 1 to 5 and another array `arr2` with the same numbers\n",
    "reversed. Calculate the exponentiation of `arr1` raised to the power of `arr2` element-wise"
   ]
  },
  {
   "cell_type": "code",
   "execution_count": 66,
   "id": "6105882a-0ce5-4664-9985-04026a2c203d",
   "metadata": {},
   "outputs": [
    {
     "data": {
      "text/plain": [
       "array([ 1, 16, 27, 16,  5])"
      ]
     },
     "execution_count": 66,
     "metadata": {},
     "output_type": "execute_result"
    }
   ],
   "source": [
    "arr1=np.arange(1,6)\n",
    "arr2=arr1[::-1]\n",
    "arr3=np.power(arr1,arr2)\n",
    "arr3"
   ]
  },
  {
   "cell_type": "code",
   "execution_count": 63,
   "id": "66955615-64f8-459d-b193-9d240e59bbed",
   "metadata": {},
   "outputs": [
    {
     "data": {
      "text/plain": [
       "(array([1, 2, 3, 4, 5]), array([5, 4, 3, 2, 1]))"
      ]
     },
     "execution_count": 63,
     "metadata": {},
     "output_type": "execute_result"
    }
   ],
   "source": [
    "arr1,arr2"
   ]
  },
  {
   "cell_type": "markdown",
   "id": "dbcbf800-2414-4259-8ec1-ed1342321969",
   "metadata": {},
   "source": [
    " Write a function that counts the occurrences of a specific substring within a NumPy array of strings"
   ]
  },
  {
   "cell_type": "markdown",
   "id": "373af110-edc4-4412-8be6-c70df25f34eb",
   "metadata": {},
   "source": [
    "arr = np.array(['hello', 'world', 'hello', 'numpy', 'hello'])\n"
   ]
  },
  {
   "cell_type": "code",
   "execution_count": 564,
   "id": "5a39135c-a9f4-456e-a49a-1040302577ae",
   "metadata": {},
   "outputs": [
    {
     "data": {
      "text/plain": [
       "3"
      ]
     },
     "execution_count": 564,
     "metadata": {},
     "output_type": "execute_result"
    }
   ],
   "source": [
    "def occurance(arr,substring):\n",
    "    count=np.char.count(arr,substring)\n",
    "    count=np.sum(count)\n",
    "    return count\n",
    "arr = np.array(['hello', 'world', 'hello', 'numpy', 'hello'])\n",
    "substiong='hello'\n",
    "count=occurance(arr,substiong)\n",
    "count\n",
    "\n"
   ]
  },
  {
   "cell_type": "markdown",
   "id": "ebf4bc5d-2614-4095-847f-cabe8bad7e82",
   "metadata": {},
   "source": [
    " Write a function that extracts uppercase characters from a NumPy array of strings.\n",
    "\n",
    "arr = np.array(['Hello', 'World', 'OpenAI', 'GPT'])"
   ]
  },
  {
   "cell_type": "code",
   "execution_count": 547,
   "id": "e90a16c5-a97c-49f4-8b4b-16cfd6067ccf",
   "metadata": {},
   "outputs": [
    {
     "name": "stdout",
     "output_type": "stream",
     "text": [
      "Uppercase characters: ['H' 'W' 'OAI' 'GPT']\n"
     ]
    }
   ],
   "source": [
    "\n",
    "#ask in doubt season\n",
    "import numpy as np\n",
    "\n",
    "def extract_uppercase(arr):\n",
    "    return np.array([''.join(char for char in word if char.isupper()) for word in arr])\n",
    "\n",
    "arr = np.array(['Hello', 'World', 'OpenAI', 'GPT'])\n",
    "uppercase_chars = extract_uppercase(arr)\n",
    "print(\"Uppercase characters:\", uppercase_chars)\n"
   ]
  },
  {
   "cell_type": "markdown",
   "id": "c359b34f-5910-4483-acb9-7e5013398024",
   "metadata": {},
   "source": [
    "58. Write a function that replaces occurrences of a substring in a NumPy array of strings with a new string"
   ]
  },
  {
   "cell_type": "markdown",
   "id": "ed97cfc3-1c2b-4854-b3b0-4116690031b8",
   "metadata": {},
   "source": [
    "arr = np.array(['apple', 'banana', 'grape', 'pineapple'])"
   ]
  },
  {
   "cell_type": "code",
   "execution_count": 151,
   "id": "2862fa9c-b1fc-4cdb-a619-e1759fb2fd2b",
   "metadata": {},
   "outputs": [
    {
     "data": {
      "text/plain": [
       "array(['no_apple', 'banana', 'grape', 'pineno_apple'], dtype='<U12')"
      ]
     },
     "execution_count": 151,
     "metadata": {},
     "output_type": "execute_result"
    }
   ],
   "source": [
    "def replace(arr,a,b):\n",
    "    new_arr=np.char.replace(arr,a,b)\n",
    "    return new_arr\n",
    "arr = np.array(['apple', 'banana', 'grape', 'pineapple'])\n",
    "substr='apple'\n",
    "reple_it='no_apple'\n",
    "arr=replace(arr,substr,reple_it)\n",
    "arr\n",
    "        \n",
    "    "
   ]
  },
  {
   "cell_type": "markdown",
   "id": "2a72eb3f-9f25-488f-86e3-745187095a49",
   "metadata": {},
   "source": [
    "59. Write a function that concatenates strings in a NumPy array element-wise."
   ]
  },
  {
   "cell_type": "markdown",
   "id": "c8e3efb1-4ea7-4ebe-b069-61fd7cd039d1",
   "metadata": {},
   "source": [
    "arr1 = np.array(['Hello', 'World']) ",
    "\n",
    "arr2 = np.array(['Open', 'AI'])"
   ]
  },
  {
   "cell_type": "code",
   "execution_count": 160,
   "id": "d81bdfc7-905b-4219-90ed-c944ac0e90bf",
   "metadata": {},
   "outputs": [
    {
     "data": {
      "text/plain": [
       "array(['HelloOpen', 'WorldAI'], dtype='<U9')"
      ]
     },
     "execution_count": 160,
     "metadata": {},
     "output_type": "execute_result"
    }
   ],
   "source": [
    "def con(arr1,arr2):\n",
    "    new_arr=np.char.add(arr1,arr2)\n",
    "    return new_arr\n",
    "arr1 = np.array(['Hello', 'World'])\n",
    "arr2 = np.array(['Open', 'AI'])\n",
    "arr3=con(arr1,arr2)\n",
    "arr3"
   ]
  },
  {
   "cell_type": "markdown",
   "id": "dd517143-8100-4292-9cac-3efb4c5c5350",
   "metadata": {},
   "source": [
    "60. Write a function that finds the length of the longest string in a NumPy array.\n",
    "\n",
    "arr = np.array(['apple', 'banana', 'grape', 'pineapple'])"
   ]
  },
  {
   "cell_type": "code",
   "execution_count": 193,
   "id": "8072340e-1382-4664-9c16-a6a2647965b3",
   "metadata": {},
   "outputs": [
    {
     "data": {
      "text/plain": [
       "(array([0]), array([3]))"
      ]
     },
     "execution_count": 195,
     "metadata": {},
     "output_type": "execute_result"
    }
   ],
   "source": [
    "def len_fun(arr):\n",
    "    vectorized_len = np.vectorize(len)\n",
    "    leng=vectorized_len(arr)\n",
    "    max=leng.max()\n",
    "    ele=np.where(leng==max)\n",
    "    return ele\n",
    "arr = np.array(['apple', 'banana', 'grape', 'pineapple'])\n",
    "chare=len_fun(arr)\n",
    "arr[chare]\n"
   ]
  },
  {
   "cell_type": "markdown",
   "id": "6a67b955-a736-4747-8f6e-6be9aeed899a",
   "metadata": {},
   "source": [
    "61. Create a dataset of 100 random integers between 1 and 1000. Compute the mean, median, variance, and\n",
    "standard deviation of the dataset using NumPy's functions."
   ]
  },
  {
   "cell_type": "code",
   "execution_count": 213,
   "id": "d5b6521b-1a64-4fc0-b3f4-bf550e929f3a",
   "metadata": {},
   "outputs": [
    {
     "data": {
      "text/plain": [
       "(0    509.07\n",
       " dtype: float64,\n",
       " 0    521.0\n",
       " dtype: float64,\n",
       " 0    95429.237475\n",
       " dtype: float64,\n",
       " 0    308.916231\n",
       " dtype: float64)"
      ]
     },
     "execution_count": 213,
     "metadata": {},
     "output_type": "execute_result"
    }
   ],
   "source": [
    "import pandas as pd\n",
    "arr=np.random.randint(1,1000,100)\n",
    "df=pd.DataFrame(arr)\n",
    "mean=df.mean()\n",
    "median=df.median()\n",
    "variance=df.var()\n",
    "std=df.std()\n",
    "mean,median,variance,std\n"
   ]
  },
  {
   "cell_type": "markdown",
   "id": "d1350d7c-f938-4b48-8875-2ce8cd07faad",
   "metadata": {},
   "source": [
    "62. Generate an array of 50 random numbers between 1 and 100. Find the 25th and 75th percentiles of the\n",
    "dataset."
   ]
  },
  {
   "cell_type": "code",
   "execution_count": 222,
   "id": "c377125f-cc68-4902-b057-94cd0f3a611a",
   "metadata": {},
   "outputs": [
    {
     "data": {
      "text/plain": [
       "(35.75, 78.75)"
      ]
     },
     "execution_count": 222,
     "metadata": {},
     "output_type": "execute_result"
    }
   ],
   "source": [
    "arr=np.random.randint(1,100,50)\n",
    "per_25=np.percentile(arr,25)\n",
    "per_75=np.percentile(arr,75)\n",
    "per_25,per_75"
   ]
  },
  {
   "cell_type": "markdown",
   "id": "866dea0e-135c-4351-965a-5b13a8bdfacf",
   "metadata": {},
   "source": [
    " Create two arrays representing two sets of variables. Compute the correlation coefficient between these\n",
    "arrays using NumPy's `corrcoef` function."
   ]
  },
  {
   "cell_type": "code",
   "execution_count": 224,
   "id": "fc05b778-4ce1-4c3d-ae61-fe87a9ba0c08",
   "metadata": {},
   "outputs": [
    {
     "data": {
      "text/plain": [
       "array([[1., 1.],\n",
       "       [1., 1.]])"
      ]
     },
     "execution_count": 224,
     "metadata": {},
     "output_type": "execute_result"
    }
   ],
   "source": [
    "arr1=np.random.randint(1,100,50)\n",
    "arr2=np.random.randint(1,1000,100)\n",
    "arr3=np.corrcoef(arr2,arr2)\n",
    "arr3"
   ]
  },
  {
   "cell_type": "markdown",
   "id": "8733ef96-4524-4b86-857d-1990b599c018",
   "metadata": {},
   "source": [
    " Create two matrices and perform matrix multiplication using NumPy's `dot` function"
   ]
  },
  {
   "cell_type": "code",
   "execution_count": 234,
   "id": "86314cf5-f29c-44c9-b1f5-e52f42609508",
   "metadata": {},
   "outputs": [
    {
     "data": {
      "text/plain": [
       "matrix([[1922]])"
      ]
     },
     "execution_count": 234,
     "metadata": {},
     "output_type": "execute_result"
    }
   ],
   "source": [
    "arr1=np.random.randint(1,10,10)\n",
    "arr2=np.random.randint(1,100,10)\n",
    "met1=np.matrix(arr1)\n",
    "met2=np.matrix(arr2)\n",
    "dot_pro=np.dot(met1,met2.T)\n",
    "dot_pro"
   ]
  },
  {
   "cell_type": "markdown",
   "id": "6a2e9913-5164-4f7c-8eaa-e71a8ac50ac3",
   "metadata": {},
   "source": [
    "65. Create an array of 50 integers between 10 and 1000. Calculate the 10th, 50th (median), and 90th\n",
    "percentiles along with the first and third quartiles."
   ]
  },
  {
   "cell_type": "code",
   "execution_count": 246,
   "id": "2a1df379-9e60-4b3d-a9f3-a6a8681b8fb2",
   "metadata": {},
   "outputs": [
    {
     "data": {
      "text/plain": [
       "(57.8, 550.0, 934.5, 177.0, 732.75)"
      ]
     },
     "execution_count": 246,
     "metadata": {},
     "output_type": "execute_result"
    }
   ],
   "source": [
    "arr=np.random.randint(10,1000,50)\n",
    "mean_10=np.percentile(arr,10)\n",
    "mean_50=np.percentile(arr,50)\n",
    "percentile_90=np.percentile(arr,90)\n",
    "first_quartile=np.percentile(arr,25)\n",
    "third_quartile=np.percentile(arr,75)\n",
    "mean_10,mean_50,percentile_90,first_quartile,third_quartile"
   ]
  },
  {
   "cell_type": "markdown",
   "id": "2798b304-6c62-4e11-875a-773148bec1e3",
   "metadata": {},
   "source": [
    "66. Create a NumPy array of integers and find the index of a specific element."
   ]
  },
  {
   "cell_type": "code",
   "execution_count": 249,
   "id": "2d54953b-c73d-48d6-a700-01b4a09f6437",
   "metadata": {},
   "outputs": [
    {
     "data": {
      "text/plain": [
       "(array([2]),)"
      ]
     },
     "execution_count": 249,
     "metadata": {},
     "output_type": "execute_result"
    }
   ],
   "source": [
    "arr = np.array([1,2,3,4,5])\n",
    "element=3\n",
    "index=np.where(arr==element)\n",
    "index"
   ]
  },
  {
   "cell_type": "markdown",
   "id": "719f73b0-0b1f-451e-abea-4ec27abf7679",
   "metadata": {},
   "source": [
    "67. Generate a random NumPy array and sort it in ascending order."
   ]
  },
  {
   "cell_type": "code",
   "execution_count": 260,
   "id": "75496863-4cfc-408f-9ab3-b705d9323e46",
   "metadata": {},
   "outputs": [],
   "source": [
    "arr=np.random.randint(1,20,10)\n",
    "arr.sort()"
   ]
  },
  {
   "cell_type": "code",
   "execution_count": 261,
   "id": "fc216bec-5b0b-4129-add5-5b9b8b97d4d9",
   "metadata": {},
   "outputs": [
    {
     "data": {
      "text/plain": [
       "array([ 2,  2,  2,  5, 10, 11, 13, 17, 17, 18])"
      ]
     },
     "execution_count": 261,
     "metadata": {},
     "output_type": "execute_result"
    }
   ],
   "source": []
  },
  {
   "cell_type": "markdown",
   "id": "e61224c0-4423-4e2c-a8bd-f55df4ac59db",
   "metadata": {},
   "source": [
    "68. Filter elements >20  in the given NumPy array\n",
    "arr = np.array([12, 25, 6, 42, 8, 30])"
   ]
  },
  {
   "cell_type": "code",
   "execution_count": 268,
   "id": "a04b7dc5-b93b-46b4-80d4-2e6ea9d285eb",
   "metadata": {},
   "outputs": [],
   "source": [
    "arr = np.array([12, 25, 6, 42, 8, 30])\n",
    "fil_arr=arr[arr>20]\n",
    "fil_arr"
   ]
  },
  {
   "cell_type": "markdown",
   "id": "5fb35c3a-b651-4a20-8ffb-419ef0cb7a9b",
   "metadata": {},
   "source": [
    "Filter elements which are divisible by 3 from a given NumPy array\n",
    "arr = np.array([1, 5, 8, 12, 15])"
   ]
  },
  {
   "cell_type": "code",
   "execution_count": 284,
   "id": "7a16c27f-9aac-4f4a-bf6c-be3887146397",
   "metadata": {},
   "outputs": [
    {
     "data": {
      "text/plain": [
       "array([12, 15])"
      ]
     },
     "execution_count": 284,
     "metadata": {},
     "output_type": "execute_result"
    }
   ],
   "source": [
    "arr = np.array([1, 5, 8, 12, 15])\n",
    "cond=arr%3==0\n",
    "new_arr=arr[cond]\n",
    "new_arr"
   ]
  },
  {
   "cell_type": "markdown",
   "id": "2dc8753a-a3df-4ff9-9afe-2c6f2d222e6e",
   "metadata": {},
   "source": [
    "Filter elements which are ≥ 20 and ≤ 40 from a given NumPy array.\n",
    "arr = np.array([10, 20, 30, 40, 50])"
   ]
  },
  {
   "cell_type": "code",
   "execution_count": 305,
   "id": "e8b7f514-3b42-414a-bf74-682e579b3e08",
   "metadata": {},
   "outputs": [
    {
     "data": {
      "text/plain": [
       "array([20, 30, 40])"
      ]
     },
     "execution_count": 305,
     "metadata": {},
     "output_type": "execute_result"
    }
   ],
   "source": [
    "arr = np.array([10, 20, 30, 40, 50])\n",
    "arr[(arr >= 20) & (arr <= 40)]"
   ]
  },
  {
   "cell_type": "markdown",
   "id": "059cfcd6-a3b0-4620-862c-da47bc1da853",
   "metadata": {},
   "source": [
    "71. For the given NumPy array, check its byte order using the `dtype` attribute byteorder."
   ]
  },
  {
   "cell_type": "markdown",
   "id": "809828f5-2ab0-47d3-b96a-f4536d69bac8",
   "metadata": {},
   "source": [
    "arr = np.array([1, 2, 3])\n"
   ]
  },
  {
   "cell_type": "code",
   "execution_count": 312,
   "id": "e8083fbf-3188-4166-9f50-04eac71b5a55",
   "metadata": {},
   "outputs": [
    {
     "data": {
      "text/plain": [
       "'='"
      ]
     },
     "execution_count": 312,
     "metadata": {},
     "output_type": "execute_result"
    }
   ],
   "source": [
    "arr = np.array([1, 2, 3])\n",
    "arr.dtype.byteorder\n",
    "#doubt"
   ]
  },
  {
   "cell_type": "markdown",
   "id": "4e012b9d-a34e-4562-bbba-76bb38e4900d",
   "metadata": {},
   "source": [
    "72. For the given NumPy array, perform byte swapping in place using `byteswap()\n",
    "arr = np.array([1, 2, 3], dtype=np.int32)\n"
   ]
  },
  {
   "cell_type": "code",
   "execution_count": 323,
   "id": "78a572a1-c348-48de-abc0-d8ea7574240d",
   "metadata": {},
   "outputs": [
    {
     "data": {
      "text/plain": [
       "array([16777216, 33554432, 50331648], dtype=int32)"
      ]
     },
     "execution_count": 323,
     "metadata": {},
     "output_type": "execute_result"
    }
   ],
   "source": [
    "arr = np.array([1, 2, 3], dtype=np.int32)\n",
    "arr.byteswap(inplace=True)\n",
    "arr"
   ]
  },
  {
   "cell_type": "markdown",
   "id": "d86cf9f6-864c-4e95-a82d-be841bed3341",
   "metadata": {},
   "source": [
    "73. For the given NumPy array, swap its byte order without modifying the original array using\n",
    "`newbyteorder()"
   ]
  },
  {
   "cell_type": "code",
   "execution_count": 321,
   "id": "3c414c0f-3096-4780-997c-63b97f8631e6",
   "metadata": {},
   "outputs": [
    {
     "data": {
      "text/plain": [
       "array([1, 2, 3], dtype=int32)"
      ]
     },
     "execution_count": 321,
     "metadata": {},
     "output_type": "execute_result"
    }
   ],
   "source": [
    "erarr = np.array([1, 2, 3], dtype=np.int32)\n",
    "new_nyteord=arr.newbyteorder()\n",
    "new_nyteorder\n",
    "\n"
   ]
  },
  {
   "cell_type": "markdown",
   "id": "cce965e8-5b91-46b8-8be7-0c8e2183388d",
   "metadata": {},
   "source": [
    "74. For the given NumPy array and swap its byte order conditionally based on system endianness using\n",
    "`newbyteorder()"
   ]
  },
  {
   "cell_type": "markdown",
   "id": "1cf295e4-bbca-4c69-9c68-669f6a8a72d2",
   "metadata": {},
   "source": [
    "arr = np.array([1, 2, 3], dtype=np.int32)"
   ]
  },
  {
   "cell_type": "code",
   "execution_count": 338,
   "id": "e3819c61-2084-42d1-ac91-9ac16a93c289",
   "metadata": {},
   "outputs": [
    {
     "data": {
      "text/plain": [
       "array([16777216, 33554432, 50331648], dtype=int32)"
      ]
     },
     "execution_count": 338,
     "metadata": {},
     "output_type": "execute_result"
    }
   ],
   "source": [
    "import sys\n",
    "arr = np.array([1, 2, 3], dtype=np.int32)\n",
    "if sys.byteorder == 'little':\n",
    "    new_arr=arr.newbyteorder('>')\n",
    "else:\n",
    "     new_arr=arr.newbyteorder('<')\n",
    "new_arr"
   ]
  },
  {
   "cell_type": "markdown",
   "id": "a250cef0-efec-461c-8d9b-01a57d1ef732",
   "metadata": {},
   "source": [
    "75. For the given NumPy array, check if byte swapping is necessary for the current system using `dtype`\n",
    "attribute `byteorder`.\n",
    "arr = np.array([1, 2, 3], dtype=np.int32)"
   ]
  },
  {
   "cell_type": "code",
   "execution_count": 343,
   "id": "31723360-ae91-4717-a17a-caf3d1b6315e",
   "metadata": {},
   "outputs": [
    {
     "name": "stdout",
     "output_type": "stream",
     "text": [
      "No byte swapping is necessary for the current system.\n"
     ]
    }
   ],
   "source": [
    "arr = np.array([1, 2, 3], dtype=np.int32)\n",
    "\n",
    "array_byte_order = arr.dtype.byteorder\n",
    "\n",
    "system_byte_order = np.dtype('<i4').byteorder\n",
    "\n",
    "if array_byte_order != system_byte_order:\n",
    "    print(\"Byte swapping is necessary for the current system.\")\n",
    "else:\n",
    "    print(\"No byte swapping is necessary for the current system.\")\n",
    "\n",
    "\n"
   ]
  },
  {
   "cell_type": "markdown",
   "id": "3137a057-7af7-44cf-bf01-10dfb936f764",
   "metadata": {},
   "source": [
    " Create a NumPy array `arr1` with values from 1 to 10. Create a copy of `arr1` named `copy_arr` and modify\n",
    "an element in `copy_arr`. Check if modifying `copy_arr` affects `arr1`."
   ]
  },
  {
   "cell_type": "code",
   "execution_count": 374,
   "id": "46a092dc-28f2-428a-a89f-2c954b94b86f",
   "metadata": {},
   "outputs": [
    {
     "name": "stdout",
     "output_type": "stream",
     "text": [
      "[5 2 1 7 9 8 8 6 5 2 4 3] [5 2 1 7 9 8 8 6 5 2 4 3]\n",
      "Yes it also modify the original arr\n"
     ]
    }
   ],
   "source": [
    "arr=np.random.randint(1,10,12)\n",
    "arr_copy=arr.copy()\n",
    "arr_copy.reshape(4,3)\n",
    "print(arr,arr_copy)\n",
    "print(f\"Yes it also modify the original arr\")"
   ]
  },
  {
   "cell_type": "markdown",
   "id": "7dac6e0b-f099-4679-80bc-d49261ddd797",
   "metadata": {},
   "source": [
    "77. Create a 2D NumPy array `matrix` of shape (3, 3) with random integers. Extract a slice `view_slice` from\n",
    "the matrix. Modify an element in `view_slice` and observe if it changes the original `matrix`."
   ]
  },
  {
   "cell_type": "code",
   "execution_count": 438,
   "id": "19e60f62-9af7-4aa0-8019-4b36c2a420fd",
   "metadata": {},
   "outputs": [
    {
     "name": "stdout",
     "output_type": "stream",
     "text": [
      "[[1 2 3]\n",
      " [2 3 4]\n",
      " [4 5 6]]\n",
      "[[1 2 3]\n",
      " [2 5 4]\n",
      " [4 5 6]] [[2 5 4]]\n",
      "It does change the original matrix\n"
     ]
    }
   ],
   "source": [
    "arr=np.array([[1,2,3],[2,3,4],[4,5,6]])\n",
    "arr=arr.reshape(3,3)\n",
    "print(arr)\n",
    "view_slice=arr[1:2]\n",
    "view_slice[0,1]=5\n",
    "print(arr,view_slice)\n",
    "print(\"It does change the original matrix\")"
   ]
  },
  {
   "cell_type": "markdown",
   "id": "41c9defd-c984-4fbf-acda-8c2a173fdd39",
   "metadata": {},
   "source": [
    "78. Create a NumPy array `array_a` of shape (4, 3) with sequential integers from 1 to 12. Extract a slice\n",
    "`view_b` from `array_a` and broadcast the addition of 5 to view_b. Check if it alters the original `array_a`."
   ]
  },
  {
   "cell_type": "code",
   "execution_count": 444,
   "id": "1d6ab977-0c93-4a6f-a9dd-72317b2c2180",
   "metadata": {},
   "outputs": [
    {
     "name": "stdout",
     "output_type": "stream",
     "text": [
      "[[ 1  2  3]\n",
      " [ 4  5  6]\n",
      " [ 7  8  9]\n",
      " [10 11 12]]\n",
      "[[ 1  2  3]\n",
      " [ 4  5  6]\n",
      " [ 7  8  9]\n",
      " [10 11 12]] \n",
      "\n",
      " [[ 9 10 11]]\n",
      "It does not change the original matrix\n"
     ]
    }
   ],
   "source": [
    "array_a=np.arange(1,13)\n",
    "array_a=array_a.reshape(4,3)\n",
    "print(array_a)\n",
    "view_b=array_a[1:2]\n",
    "view_b=view_b+5\n",
    "print(array_a,'\\n\\n',view_b)\n",
    "print(\"It does not change the original matrix\")"
   ]
  },
  {
   "cell_type": "markdown",
   "id": "a423cef3-5093-4450-b8be-69cbde137f81",
   "metadata": {},
   "source": [
    "79. Create a NumPy array `orig_array` of shape (2, 4) with values from 1 to 8. Create a reshaped view\n",
    "`reshaped_view` of shape (4, 2) from orig_array. Modify an element in `reshaped_view` and check if it\n",
    "reflects changes in the original `orig_array`."
   ]
  },
  {
   "cell_type": "code",
   "execution_count": 453,
   "id": "6097264b-969c-455f-a0ba-8f1296c75430",
   "metadata": {},
   "outputs": [
    {
     "name": "stdout",
     "output_type": "stream",
     "text": [
      "[[4 2 3 4]\n",
      " [5 6 7 8]] \n",
      "\n",
      " [[4 5]\n",
      " [2 6]\n",
      " [3 7]\n",
      " [4 8]]\n",
      "It does change the original matrix\n"
     ]
    }
   ],
   "source": [
    "orig_array=np.arange(1,9)\n",
    "orig_array=orig_array.reshape(2,4)\n",
    "reshaped_view=orig_array.T\n",
    "reshaped_view[0][0]=4\n",
    "print(orig_array,'\\n\\n',reshaped_view)\n",
    "print(\"It does change the original matrix\")"
   ]
  },
  {
   "cell_type": "markdown",
   "id": "c5f9f23a-60f3-4450-bb83-3980c31b369c",
   "metadata": {},
   "source": [
    "80. Create a NumPy array `data` of shape (3, 4) with random integers. Extract a copy `data_copy` of\n",
    "elements greater than 5. Modify an element in `data_copy` and verify if it affects the original `data`."
   ]
  },
  {
   "cell_type": "code",
   "execution_count": 469,
   "id": "5b416880-b504-4326-b482-40e217a8acf6",
   "metadata": {},
   "outputs": [
    {
     "name": "stdout",
     "output_type": "stream",
     "text": [
      "[[ 1  2  3  4]\n",
      " [ 5  6  7  8]\n",
      " [ 9 10 11 12]] \n",
      "\n",
      " [ 9  7  8  9 10 11 12]\n",
      "It does not change the original matrix\n"
     ]
    }
   ],
   "source": [
    "data=np.arange(1,13)\n",
    "data=data.reshape(3,4)\n",
    "data_copy=data.copy()[data>5]\n",
    "data_copy[0]=9\n",
    "print(data,'\\n\\n',data_copy)\n",
    "print(\"It does not change the original matrix\")"
   ]
  },
  {
   "cell_type": "markdown",
   "id": "ca217175-caf2-4c07-9cd0-eb43ff32aa2d",
   "metadata": {},
   "source": [
    "81. Create two matrices A and B of identical shape containing integers and perform addition and subtraction\n",
    "operations between them."
   ]
  },
  {
   "cell_type": "code",
   "execution_count": 472,
   "id": "2f05cef1-6100-46d2-ba27-44ea55e10ec3",
   "metadata": {},
   "outputs": [
    {
     "name": "stdout",
     "output_type": "stream",
     "text": [
      "[[10 10 10 10 10 10]] \n",
      "\n",
      " [[-8 -6 -4 -2  0  2]]\n"
     ]
    }
   ],
   "source": [
    "a=np.matrix([1,2,3,4,5,6])\n",
    "b=np.matrix([9,8,7,6,5,4])\n",
    "c=a+b\n",
    "d=a-b\n",
    "print(c,\"\\n\\n\",d)"
   ]
  },
  {
   "cell_type": "markdown",
   "id": "afae5799-bc89-47fe-bd49-2ba64f763e82",
   "metadata": {},
   "source": [
    "82. Generate two matrices `C` (3x2) and `D` (2x4) and perform matrix multiplication."
   ]
  },
  {
   "cell_type": "code",
   "execution_count": 487,
   "id": "497176d8-636d-4738-afb6-b8435b5ede04",
   "metadata": {},
   "outputs": [
    {
     "data": {
      "text/plain": [
       "(matrix([[ 4,  5,  6,  7],\n",
       "         [12, 17, 22, 27],\n",
       "         [20, 29, 38, 47]]),\n",
       " matrix([[ 4,  5,  6,  7],\n",
       "         [12, 17, 22, 27],\n",
       "         [20, 29, 38, 47]]),\n",
       " matrix([[ 4,  5,  6,  7],\n",
       "         [12, 17, 22, 27],\n",
       "         [20, 29, 38, 47]]))"
      ]
     },
     "execution_count": 487,
     "metadata": {},
     "output_type": "execute_result"
    }
   ],
   "source": [
    "c=np.arange(0,6)\n",
    "d=np.arange(0,8)\n",
    "c=np.matrix(c).reshape(3,2)\n",
    "d=np.matrix(d).reshape(2,4)\n",
    "e=c*d\n",
    "f=c@d\n",
    "g=np.dot(c,d)\n",
    "e,f,g"
   ]
  },
  {
   "cell_type": "markdown",
   "id": "ba87b5f3-c5fb-4ad5-83a1-b124ae283e77",
   "metadata": {},
   "source": [
    "Create a matrix `E` and find its transpose"
   ]
  },
  {
   "cell_type": "code",
   "execution_count": 494,
   "id": "48536757-993f-4cc9-a414-2ac8da110141",
   "metadata": {},
   "outputs": [
    {
     "name": "stdout",
     "output_type": "stream",
     "text": [
      "E[[0 1 2]\n",
      " [3 4 5]] and its Transpose \n",
      " [[0 3]\n",
      " [1 4]\n",
      " [2 5]]\n"
     ]
    }
   ],
   "source": [
    "e=np.arange(0,6).reshape(2,3)\n",
    "e=np.matrix(e)\n",
    "e_t=e.T\n",
    "print(f\"E{e} and its Transpose \\n {e_t}\")"
   ]
  },
  {
   "cell_type": "markdown",
   "id": "d18e2433-c9bb-4bdc-a5c5-fde4d0abe88b",
   "metadata": {},
   "source": [
    "Create a matrix `E` and find its transpose"
   ]
  },
  {
   "cell_type": "markdown",
   "id": "ee42bdce-04e7-4ad0-8af9-af1d6405132f",
   "metadata": {},
   "source": [
    "84. Generate a square matrix `F` and compute its determinant."
   ]
  },
  {
   "cell_type": "code",
   "execution_count": 545,
   "id": "d9632cc8-d807-43ec-8d34-6cd5d90122d4",
   "metadata": {},
   "outputs": [
    {
     "data": {
      "text/plain": [
       "53.99999999999996"
      ]
     },
     "execution_count": 545,
     "metadata": {},
     "output_type": "execute_result"
    }
   ],
   "source": [
    "F = np.random.randint(1, 10, size=(4, 4))\n",
    "det_F = np.linalg.det(F)\n",
    "det_F\n",
    "#if det_F == 0 \"Matrix G is singular and does not have an inverse.\""
   ]
  },
  {
   "cell_type": "markdown",
   "id": "1653e52d-6153-4743-8c85-d76d2e0c2af8",
   "metadata": {},
   "source": [
    "85. Create a square matrix `G` and find its inverse."
   ]
  },
  {
   "cell_type": "code",
   "execution_count": 546,
   "id": "a08d17f1-4465-4ddb-b6dd-245c253bae15",
   "metadata": {},
   "outputs": [
    {
     "data": {
      "text/plain": [
       "matrix([[-1.5,  0.5],\n",
       "        [ 1. ,  0. ]])"
      ]
     },
     "execution_count": 546,
     "metadata": {},
     "output_type": "execute_result"
    }
   ],
   "source": [
    "G=np.arange(0,4).reshape(2,2)\n",
    "G=np.matrix(G)\n",
    "G_inv=np.linalg.inv(G)\n",
    "G_inv"
   ]
  },
  {
   "cell_type": "code",
   "execution_count": null,
   "id": "930de7ff-8966-46ba-91b9-21bddd1a2193",
   "metadata": {},
   "outputs": [],
   "source": []
  }
 ],
 "metadata": {
  "kernelspec": {
   "display_name": "Python 3 (ipykernel)",
   "language": "python",
   "name": "python3"
  },
  "language_info": {
   "codemirror_mode": {
    "name": "ipython",
    "version": 3
   },
   "file_extension": ".py",
   "mimetype": "text/x-python",
   "name": "python",
   "nbconvert_exporter": "python",
   "pygments_lexer": "ipython3",
   "version": "3.10.8"
  }
 },
 "nbformat": 4,
 "nbformat_minor": 5
}
