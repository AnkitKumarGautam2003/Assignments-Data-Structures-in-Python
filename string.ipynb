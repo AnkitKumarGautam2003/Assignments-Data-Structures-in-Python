{
 "cells": [
  {
   "cell_type": "code",
   "execution_count": 2,
   "metadata": {},
   "outputs": [
    {
     "name": "stdout",
     "output_type": "stream",
     "text": [
      "tikna\n"
     ]
    }
   ],
   "source": [
    "#Write a code to reverse a string\n",
    "a=input()\n",
    "a=a[::-1]\n",
    "print(a)\n"
   ]
  },
  {
   "cell_type": "code",
   "execution_count": 13,
   "metadata": {},
   "outputs": [
    {
     "name": "stdout",
     "output_type": "stream",
     "text": [
      "7\n"
     ]
    }
   ],
   "source": [
    "# Write 'a code to count the number of vowel in 'string'\n",
    "vowel=['a','e','i','o','u']\n",
    "a=input()\n",
    "count=0\n",
    "for i in range(len(a)):\n",
    "    if a[i]in vowel:\n",
    "        count+=1\n",
    "print(count)"
   ]
  },
  {
   "cell_type": "code",
   "execution_count": 17,
   "metadata": {},
   "outputs": [
    {
     "name": "stdout",
     "output_type": "stream",
     "text": [
      "ankit is not a palindrome string\n"
     ]
    }
   ],
   "source": [
    "#Write a code to check if a given string is a palindrome or not\n",
    "a=input()\n",
    "b=a[::-1]\n",
    "if a == b:\n",
    "    print(a +\" \"+\"is a palindrome string\")\n",
    "else:\n",
    "    print(a +\" \" +\"is not a palindrome string\")"
   ]
  },
  {
   "cell_type": "code",
   "execution_count": 20,
   "metadata": {},
   "outputs": [
    {
     "name": "stdout",
     "output_type": "stream",
     "text": [
      "yes the two words are anagrams of each other\n"
     ]
    }
   ],
   "source": [
    "#Write a code to check if two given strings are anagrams of each other\n",
    "a=input()\n",
    "b=input()\n",
    "a=sorted(a)\n",
    "b=sorted(b)\n",
    "if a==b:\n",
    "    print(f\"yes the two words {a} and  {b} are anagrams of each other\")\n",
    "else:\n",
    "    print(f\"No the two words {a} and {b} are anagrams of each other\")"
   ]
  },
  {
   "cell_type": "code",
   "execution_count": 2,
   "metadata": {},
   "outputs": [
    {
     "name": "stdout",
     "output_type": "stream",
     "text": [
      "The number of times the a occure in ankit kumar gautam 4 and the places where it occure[0, 9, 13, 16]\n"
     ]
    }
   ],
   "source": [
    "#Write a code to find all occurrences of a given substring within another string\n",
    "string=input()\n",
    "sub_string=input()\n",
    "s_len=len(sub_string)\n",
    "occurrences=[]\n",
    "for i in range(len(string)):\n",
    "    if(sub_string[0]==string[i]):\n",
    "        c_string=string[i:i+s_len]\n",
    "        if c_string==sub_string:\n",
    "            occurrences.append(i)\n",
    "print(f\"The number of times the {sub_string} occure in {string} {len(occurrences)} and the places where it occure{occurrences}\")"
   ]
  },
  {
   "cell_type": "code",
   "execution_count": 5,
   "metadata": {},
   "outputs": [
    {
     "name": "stdout",
     "output_type": "stream",
     "text": [
      "['a', 'i', 'k', 'n', 't'] ['a', 'i', 'k', 'n', 't']\n"
     ]
    }
   ],
   "source": [
    "#Write a code to perform basic string compression using the counts of repeated characters\n",
    "str0=input()\n",
    "str1=input()\n",
    "str0=sorted(str0)\n",
    "str1=sorted(str1)\n",
    "print(str0,str1)"
   ]
  },
  {
   "cell_type": "code",
   "execution_count": 53,
   "metadata": {},
   "outputs": [
    {
     "name": "stdout",
     "output_type": "stream",
     "text": [
      "ankir\n"
     ]
    }
   ],
   "source": [
    "#Write a code to convert a given string to uppercase or lowercase\n",
    "str1=input()\n",
    "case_sel=input(\"You want to convert you string into upper case or lowere case /n for upper case 'U' /nand for lower case 'L'\")\n",
    "if case_sel =='l':\n",
    "    print(str1.lower())\n",
    "else:\n",
    "    print(str1.upper())\n"
   ]
  },
  {
   "cell_type": "code",
   "execution_count": 52,
   "metadata": {},
   "outputs": [
    {
     "name": "stdout",
     "output_type": "stream",
     "text": [
      "Total number of wordes are 1 and totel numner or alphabet are 1\n"
     ]
    }
   ],
   "source": [
    "#Write a code to count the number of words in a string\n",
    "str1=input()\n",
    "W_count=1\n",
    "A_count=0\n",
    "uniquew=True\n",
    "for i in str1:\n",
    "    if i!=' ':\n",
    "        A_count+=1\n",
    "for i in str1:\n",
    "    if i==' ':\n",
    "        W_count+=1\n",
    "print(f\"Total number of wordes are {W_count} and totel numner or alphabet are {A_count}\")"
   ]
  },
  {
   "cell_type": "code",
   "execution_count": 35,
   "metadata": {},
   "outputs": [
    {
     "name": "stdout",
     "output_type": "stream",
     "text": [
      "The concatenated value of two string is ankit kumar gautam\n"
     ]
    }
   ],
   "source": [
    "#Write a code to concatenate two strings without using the + operator\n",
    "st1=input()\n",
    "str2=input()\n",
    "conc=f\"{st1.strip()} {str2.strip()}\"\n",
    "print(f\"The concatenated value of two string is {conc}\")"
   ]
  },
  {
   "cell_type": "code",
   "execution_count": 70,
   "metadata": {},
   "outputs": [
    {
     "name": "stdout",
     "output_type": "stream",
     "text": [
      "1\n",
      "2\n",
      "2\n",
      "3\n"
     ]
    }
   ],
   "source": [
    "#Write a code to remove all occurrences of a specific element from a list\n",
    "a=int(input())\n",
    "list=[]\n",
    "for i in range(a):\n",
    "    b=input(\"Enter the element from list\")\n",
    "    list.append(b)\n",
    "b=input(\"Enter the number you want to remove from the list\")\n",
    "for i in list:\n",
    "    if i==b:\n",
    "        list.reverse"
   ]
  },
  {
   "cell_type": "code",
   "execution_count": null,
   "metadata": {},
   "outputs": [],
   "source": []
  }
 ],
 "metadata": {
  "kernelspec": {
   "display_name": "Python 3",
   "language": "python",
   "name": "python3"
  },
  "language_info": {
   "codemirror_mode": {
    "name": "ipython",
    "version": 3
   },
   "file_extension": ".py",
   "mimetype": "text/x-python",
   "name": "python",
   "nbconvert_exporter": "python",
   "pygments_lexer": "ipython3",
   "version": "3.11.9"
  }
 },
 "nbformat": 4,
 "nbformat_minor": 2
}
